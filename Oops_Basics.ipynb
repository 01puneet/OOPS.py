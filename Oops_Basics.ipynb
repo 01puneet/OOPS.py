{
 "cells": [
  {
   "cell_type": "code",
   "execution_count": 4,
   "id": "819b20ee-c897-4d10-a7cd-cc0226439f5b",
   "metadata": {},
   "outputs": [
    {
     "name": "stdout",
     "output_type": "stream",
     "text": [
      "messi\n",
      "messi\n"
     ]
    }
   ],
   "source": [
    "class football:\n",
    "    def team(self,a):\n",
    "        print(a)\n",
    "argentina=football()\n",
    "argentina.team(\"messi\")#way to create object\n",
    "football.team(argentina,\"messi\")#second way to create object."
   ]
  },
  {
   "cell_type": "code",
   "execution_count": 8,
   "id": "4f23713d-e90f-4b50-bf60-3c67db3b9423",
   "metadata": {},
   "outputs": [
    {
     "name": "stdout",
     "output_type": "stream",
     "text": [
      "I get called everytime the object is created.\n",
      "messi\n",
      "I get called everytime the object is created.\n",
      "ronaldo\n",
      "messi\n"
     ]
    }
   ],
   "source": [
    "#__init__()\n",
    "class ft:\n",
    "    def __init__(self,best_player):\n",
    "        print(\"I get called everytime the object is created.\")\n",
    "        print(best_player)\n",
    "        self.at=best_player#now can use the variable throughout class scope.\n",
    "    def display(self):\n",
    "        print(self.at)\n",
    "ag=ft(\"messi\")\n",
    "pg=ft(\"ronaldo\")\n",
    "ag.display()#displays ag best player"
   ]
  },
  {
   "cell_type": "code",
   "execution_count": 11,
   "id": "b8146816-1b16-42ae-87c8-31db6856aa1b",
   "metadata": {},
   "outputs": [
    {
     "name": "stdout",
     "output_type": "stream",
     "text": [
      "not same\n",
      "139663948662720\n",
      "139663948662432\n"
     ]
    }
   ],
   "source": [
    "class football:\n",
    "    def __init__(self,goals):\n",
    "        self.g=goals\n",
    "    def compare(self, second):\n",
    "        if self.g==second.g:\n",
    "            print('yes same')\n",
    "        else:\n",
    "            print(\"not same\")\n",
    "          \n",
    "        \n",
    "ag=football(220)\n",
    "ct=football(100)\n",
    "ag.compare(ct)\n",
    "print(id(ag))\n",
    "print(id(ct))\n",
    "#all objects are stored in heap memory"
   ]
  },
  {
   "cell_type": "code",
   "execution_count": 20,
   "id": "4078cd6d-c2d1-4f53-b791-e6aa74a24489",
   "metadata": {},
   "outputs": [
    {
     "name": "stdout",
     "output_type": "stream",
     "text": [
      "virat bumrah jaddu\n",
      "rohit bumrah jaddu\n"
     ]
    },
    {
     "data": {
      "text/plain": [
       "'India'"
      ]
     },
     "execution_count": 20,
     "metadata": {},
     "output_type": "execute_result"
    }
   ],
   "source": [
    "#types of variables\n",
    "\"\"\" \n",
    "Instance- defined inside init & used by all objects\n",
    "Class/Static- defined outside init\n",
    "\"\"\"\n",
    "class player:\n",
    "    team=\"India\"#class variable\n",
    "    def __init__(self,batter,bowler,allrounder):\n",
    "        self.bat=batter #instance variable\n",
    "        self.ball=bowler\n",
    "        self.all=allrounder\n",
    "    def display(self):\n",
    "        print(self.bat,self.ball,self.all)\n",
    "    def update(self):\n",
    "        self.bat=\"rohit\"\n",
    "        print(self.bat,self.ball,self.all)\n",
    "obj1=player(\"virat\",\"bumrah\",\"jaddu\")\n",
    "obj1.display()\n",
    "obj1.update()\n",
    "obj1.team\n"
   ]
  },
  {
   "cell_type": "code",
   "execution_count": 29,
   "id": "e9cf4122-f3cf-47f4-b1e4-1c5aa4f42137",
   "metadata": {},
   "outputs": [
    {
     "name": "stdout",
     "output_type": "stream",
     "text": [
      "Common sports in respective country-\n",
      "cricket badminton\n",
      "Common sports in respective country-\n",
      "football cricket\n",
      "badminton rugby\n",
      "Outdoor\n",
      "Outdoor\n",
      "Each sport has its own rulebook\n"
     ]
    }
   ],
   "source": [
    "#types of methods\n",
    "\"\"\"\n",
    "instance-accessor/getter & mutator/setter \n",
    "class \n",
    "static\n",
    "\"\"\"\n",
    "class sports:\n",
    "    @classmethod #decorator\n",
    "    def sport_description(cls):\n",
    "        sport_category=\"Outdoor\"\n",
    "        print(sport_category)\n",
    "    def __init__(self,s1,s2):\n",
    "        self.s1=s1\n",
    "        self.s2=s2\n",
    "    def display(self):#accessor/getter\n",
    "        print(\"Common sports in respective country-\")\n",
    "        print(self.s1,self.s2)\n",
    "        \n",
    "    def aus_mutate(self):#mutator\n",
    "        self.s1=\"badminton\"\n",
    "        self.s2=\"rugby\"\n",
    "        print(self.s1,self.s2)\n",
    "        \n",
    "    @staticmethod #decorator   \n",
    "    def rules():\n",
    "        print(\"Each sport has its own rulebook\")\n",
    "    \n",
    "india=sports('cricket','badminton')\n",
    "aus=sports('cricket','football')\n",
    "india.display()\n",
    "aus.s1=\"football\" #change directly through object\n",
    "aus.s2=\"cricket\"\n",
    "aus.display()\n",
    "aus.aus_mutate()\n",
    "aus.sport_description()#can access object with classname & object as well      \n",
    "sports.sport_description()#access using classmethod\n",
    "aus.rules()"
   ]
  },
  {
   "cell_type": "code",
   "execution_count": 36,
   "id": "ee9733a8-a7b0-4a0e-97b8-d1e74594d4a6",
   "metadata": {},
   "outputs": [
    {
     "name": "stdout",
     "output_type": "stream",
     "text": [
      "cricket Badminton\n"
     ]
    },
    {
     "data": {
      "text/plain": [
       "'boundary 70 m'"
      ]
     },
     "execution_count": 36,
     "metadata": {},
     "output_type": "execute_result"
    }
   ],
   "source": [
    "#innerclass\n",
    "class sport:\n",
    "    def __init__(self,s1,s2):\n",
    "        self.s1=s1\n",
    "        self.s2=s2\n",
    "        self.rule=self.rules()\n",
    "        \n",
    "    def display(self):\n",
    "        print(self.s1,self.s2)\n",
    "    class rules:\n",
    "        def __init__(self):\n",
    "            self.r1=\"No cheating\"\n",
    "            self.r2=\"boundary 70 m\"\n",
    "           \n",
    "        \n",
    "            \n",
    "ind=sport(\"cricket\",\"Badminton\")\n",
    "ind.display()\n",
    "ind.rule.r2\n",
    "        \n",
    "        "
   ]
  },
  {
   "cell_type": "code",
   "execution_count": 39,
   "id": "e99d0c86-103a-4e46-a602-5e4cc967ee44",
   "metadata": {},
   "outputs": [
    {
     "name": "stdout",
     "output_type": "stream",
     "text": [
      "inside fun1\n",
      "inside fun2\n",
      "inside fun3\n",
      "inside fun4\n"
     ]
    }
   ],
   "source": [
    "#inheritance\n",
    "class A:\n",
    "    def fun1(self):\n",
    "        print(\"inside fun1\")\n",
    "    def fun2(self):\n",
    "        print(\"inside fun2\")\n",
    "class B(A):#single level inheritance\n",
    "    def fun3(self):\n",
    "        print(\"inside fun3\")\n",
    "class C(B):#Multilevel inheritance\n",
    "    def fun4(self):\n",
    "        print(\"inside fun4\")\n",
    "obj=C()\n",
    "obj.fun1()\n",
    "obj.fun2()\n",
    "obj.fun3()\n",
    "obj.fun4()"
   ]
  },
  {
   "cell_type": "code",
   "execution_count": 42,
   "id": "5646f90f-d987-438a-a90f-1c676dde5933",
   "metadata": {},
   "outputs": [
    {
     "name": "stdout",
     "output_type": "stream",
     "text": [
      "in fun1 class A\n",
      "in fun2 class B\n",
      "inside fun class C\n"
     ]
    }
   ],
   "source": [
    "#multiple inheritance\n",
    "class A:\n",
    "    def fun1(self):\n",
    "        print(\"in fun1 class A\")\n",
    "class B:\n",
    "    def fun2(self):\n",
    "        print(\"in fun2 class B\")\n",
    "class C(A,B):\n",
    "    def fun3(self):\n",
    "        print(\"inside fun class C\")\n",
    "obj=C()\n",
    "obj.fun1()\n",
    "obj.fun2()\n",
    "obj.fun3()"
   ]
  },
  {
   "cell_type": "code",
   "execution_count": 54,
   "id": "52e151f0-9212-4b8a-b39b-6009d9ac14fc",
   "metadata": {},
   "outputs": [
    {
     "name": "stdout",
     "output_type": "stream",
     "text": [
      "init A\n",
      "init B\n",
      "in A\n",
      "in B\n"
     ]
    }
   ],
   "source": [
    "#constructor in inheritance\n",
    "class A:\n",
    "    def __init__(self):\n",
    "        print(\"init A\")\n",
    "    def fun(self):\n",
    "        print(\"in A\")\n",
    "class B(A):\n",
    "    def __init__(self):\n",
    "        super().__init__()#used to run init of super class\n",
    "        print(\"init B\")\n",
    "    def fun(self):\n",
    "        super().fun()#used to run method of super class\n",
    "        print(\"in B\")\n",
    "obj=B()#init of B is called\n",
    "obj.fun()\n",
    "\n"
   ]
  },
  {
   "cell_type": "code",
   "execution_count": 58,
   "id": "d34f3c9f-9018-4145-8716-bbb8bbea173c",
   "metadata": {},
   "outputs": [
    {
     "name": "stdout",
     "output_type": "stream",
     "text": [
      "init B\n",
      "in B\n"
     ]
    }
   ],
   "source": [
    "#method resolution order(MRO)\n",
    "class A:\n",
    "    def __init__(self):\n",
    "        print(\"init A\")\n",
    "    def fun(self):\n",
    "        print(\"in A\")\n",
    "class B:\n",
    "    def __init__(self):\n",
    "        print(\"init B\")\n",
    "    def fun(self):\n",
    "        print(\"in B\")\n",
    "class C(B,A):\n",
    "    def fun3(self):\n",
    "        print(\"in C\")\n",
    "obj=C()#init of B is called\n",
    "obj.fun()\n",
    "\n",
    "    "
   ]
  },
  {
   "cell_type": "code",
   "execution_count": 61,
   "id": "04a764d0-cb9f-453c-8077-76586c853185",
   "metadata": {},
   "outputs": [
    {
     "name": "stdout",
     "output_type": "stream",
     "text": [
      "9\n"
     ]
    }
   ],
   "source": [
    "#Polymorphism\n",
    "\"\"\"\n",
    "4 ways to implement polymorphism\n",
    "1)duck typing\n",
    "2)operator overloading\n",
    "3)method overloading\n",
    "4)method overriding\n",
    "\"\"\"\n",
    "#operator overloading\n",
    "a=6\n",
    "b=3\n",
    "def __add__(a,b):\n",
    "    return a*b\n",
    "print(int.__add__(a,b))"
   ]
  },
  {
   "cell_type": "code",
   "execution_count": 6,
   "id": "198e984c-dad5-451c-aaf9-6aabdd3e917b",
   "metadata": {},
   "outputs": [
    {
     "name": "stdout",
     "output_type": "stream",
     "text": [
      "300 450\n"
     ]
    }
   ],
   "source": [
    "class price:\n",
    "    def __init__(self,prev_price,current_price):\n",
    "        self.p=prev_price\n",
    "        self.c=current_price\n",
    "    def __add__(self,other):\n",
    "        p1=self.p + other.p\n",
    "        p2=self.c + other.c\n",
    "        obj=price(p1,p2)\n",
    "        return obj\n",
    "    \n",
    "        \n",
    "        \n",
    "apple=price(100,200)\n",
    "mango=price(200,250)\n",
    "res=apple + mango#operator overloaded\n",
    "print(res.p, res.c)"
   ]
  },
  {
   "cell_type": "code",
   "execution_count": 12,
   "id": "c8dd1e91-8edf-4a89-ae27-ab49151785cf",
   "metadata": {},
   "outputs": [
    {
     "name": "stdout",
     "output_type": "stream",
     "text": [
      "hello\n"
     ]
    }
   ],
   "source": [
    "#method overriding:\n",
    "class test:\n",
    "    def fun(self):\n",
    "        print(\"hi\")\n",
    "class c(test):\n",
    "    def fun(self):\n",
    "        print(\"hello\")\n",
    "obj=c()\n",
    "obj.fun()\n"
   ]
  },
  {
   "cell_type": "code",
   "execution_count": 5,
   "id": "c57487bb-4c63-4037-90f0-6a035216a470",
   "metadata": {},
   "outputs": [
    {
     "ename": "TypeError",
     "evalue": "Can't instantiate abstract class cricket with abstract method fun",
     "output_type": "error",
     "traceback": [
      "\u001b[0;31m---------------------------------------------------------------------------\u001b[0m",
      "\u001b[0;31mTypeError\u001b[0m                                 Traceback (most recent call last)",
      "Input \u001b[0;32mIn [5]\u001b[0m, in \u001b[0;36m<cell line: 8>\u001b[0;34m()\u001b[0m\n\u001b[1;32m      4\u001b[0m     \u001b[38;5;129m@abstractmethod\u001b[39m\n\u001b[1;32m      5\u001b[0m     \u001b[38;5;28;01mdef\u001b[39;00m \u001b[38;5;21mfun\u001b[39m():\n\u001b[1;32m      6\u001b[0m         \u001b[38;5;28;01mpass\u001b[39;00m\n\u001b[0;32m----> 8\u001b[0m obj\u001b[38;5;241m=\u001b[39m\u001b[43mcricket\u001b[49m\u001b[43m(\u001b[49m\u001b[43m)\u001b[49m\n",
      "\u001b[0;31mTypeError\u001b[0m: Can't instantiate abstract class cricket with abstract method fun"
     ]
    }
   ],
   "source": [
    "#abstraction\n",
    "from abc import ABC, abstractmethod\n",
    "class cricket(ABC):\n",
    "    @abstractmethod\n",
    "    def fun():\n",
    "        pass\n",
    "    \n",
    "obj=cricket()\n"
   ]
  },
  {
   "cell_type": "code",
   "execution_count": null,
   "id": "d4e4a2b2-de75-4edd-86bf-4885381101d7",
   "metadata": {},
   "outputs": [],
   "source": []
  }
 ],
 "metadata": {
  "kernelspec": {
   "display_name": "Python 3 (ipykernel)",
   "language": "python",
   "name": "python3"
  },
  "language_info": {
   "codemirror_mode": {
    "name": "ipython",
    "version": 3
   },
   "file_extension": ".py",
   "mimetype": "text/x-python",
   "name": "python",
   "nbconvert_exporter": "python",
   "pygments_lexer": "ipython3",
   "version": "3.9.12"
  }
 },
 "nbformat": 4,
 "nbformat_minor": 5
}
